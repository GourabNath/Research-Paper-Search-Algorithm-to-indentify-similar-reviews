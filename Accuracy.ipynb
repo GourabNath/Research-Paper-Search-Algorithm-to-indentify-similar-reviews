{
  "nbformat": 4,
  "nbformat_minor": 0,
  "metadata": {
    "anaconda-cloud": {},
    "kernelspec": {
      "display_name": "Python [conda root]",
      "language": "python",
      "name": "conda-root-py"
    },
    "language_info": {
      "codemirror_mode": {
        "name": "ipython",
        "version": 3
      },
      "file_extension": ".py",
      "mimetype": "text/x-python",
      "name": "python",
      "nbconvert_exporter": "python",
      "pygments_lexer": "ipython3",
      "version": "3.5.6"
    },
    "colab": {
      "name": "Untitled3 - Copy - Copy.ipynb",
      "provenance": [],
      "collapsed_sections": [],
      "include_colab_link": true
    },
    "accelerator": "GPU"
  },
  "cells": [
    {
      "cell_type": "markdown",
      "metadata": {
        "id": "view-in-github",
        "colab_type": "text"
      },
      "source": [
        "<a href=\"https://colab.research.google.com/github/GourabNath/Research-Paper-Search-Algorithm-to-indentify-similar-reviews/blob/master/Accuracy.ipynb\" target=\"_parent\"><img src=\"https://colab.research.google.com/assets/colab-badge.svg\" alt=\"Open In Colab\"/></a>"
      ]
    },
    {
      "cell_type": "code",
      "metadata": {
        "id": "bR4yEmk53ApL",
        "colab_type": "code",
        "outputId": "b41d4054-5cb5-4314-a503-eb40d578ea8e",
        "colab": {
          "base_uri": "https://localhost:8080/",
          "height": 35
        }
      },
      "source": [
        "# importing libraries\n",
        "import pandas as pd\n",
        "import numpy as np\n",
        "import glob\n",
        "import os\n",
        "os.getcwd()"
      ],
      "execution_count": 1,
      "outputs": [
        {
          "output_type": "execute_result",
          "data": {
            "text/plain": [
              "'/content'"
            ]
          },
          "metadata": {
            "tags": []
          },
          "execution_count": 1
        }
      ]
    },
    {
      "cell_type": "code",
      "metadata": {
        "id": "AgyxAObJ3ApR",
        "colab_type": "code",
        "outputId": "7fcb7229-3a4d-42ad-d248-fe01d176b114",
        "colab": {
          "resources": {
            "http://localhost:8080/nbextensions/google.colab/files.js": {
              "data": "Ly8gQ29weXJpZ2h0IDIwMTcgR29vZ2xlIExMQwovLwovLyBMaWNlbnNlZCB1bmRlciB0aGUgQXBhY2hlIExpY2Vuc2UsIFZlcnNpb24gMi4wICh0aGUgIkxpY2Vuc2UiKTsKLy8geW91IG1heSBub3QgdXNlIHRoaXMgZmlsZSBleGNlcHQgaW4gY29tcGxpYW5jZSB3aXRoIHRoZSBMaWNlbnNlLgovLyBZb3UgbWF5IG9idGFpbiBhIGNvcHkgb2YgdGhlIExpY2Vuc2UgYXQKLy8KLy8gICAgICBodHRwOi8vd3d3LmFwYWNoZS5vcmcvbGljZW5zZXMvTElDRU5TRS0yLjAKLy8KLy8gVW5sZXNzIHJlcXVpcmVkIGJ5IGFwcGxpY2FibGUgbGF3IG9yIGFncmVlZCB0byBpbiB3cml0aW5nLCBzb2Z0d2FyZQovLyBkaXN0cmlidXRlZCB1bmRlciB0aGUgTGljZW5zZSBpcyBkaXN0cmlidXRlZCBvbiBhbiAiQVMgSVMiIEJBU0lTLAovLyBXSVRIT1VUIFdBUlJBTlRJRVMgT1IgQ09ORElUSU9OUyBPRiBBTlkgS0lORCwgZWl0aGVyIGV4cHJlc3Mgb3IgaW1wbGllZC4KLy8gU2VlIHRoZSBMaWNlbnNlIGZvciB0aGUgc3BlY2lmaWMgbGFuZ3VhZ2UgZ292ZXJuaW5nIHBlcm1pc3Npb25zIGFuZAovLyBsaW1pdGF0aW9ucyB1bmRlciB0aGUgTGljZW5zZS4KCi8qKgogKiBAZmlsZW92ZXJ2aWV3IEhlbHBlcnMgZm9yIGdvb2dsZS5jb2xhYiBQeXRob24gbW9kdWxlLgogKi8KKGZ1bmN0aW9uKHNjb3BlKSB7CmZ1bmN0aW9uIHNwYW4odGV4dCwgc3R5bGVBdHRyaWJ1dGVzID0ge30pIHsKICBjb25zdCBlbGVtZW50ID0gZG9jdW1lbnQuY3JlYXRlRWxlbWVudCgnc3BhbicpOwogIGVsZW1lbnQudGV4dENvbnRlbnQgPSB0ZXh0OwogIGZvciAoY29uc3Qga2V5IG9mIE9iamVjdC5rZXlzKHN0eWxlQXR0cmlidXRlcykpIHsKICAgIGVsZW1lbnQuc3R5bGVba2V5XSA9IHN0eWxlQXR0cmlidXRlc1trZXldOwogIH0KICByZXR1cm4gZWxlbWVudDsKfQoKLy8gTWF4IG51bWJlciBvZiBieXRlcyB3aGljaCB3aWxsIGJlIHVwbG9hZGVkIGF0IGEgdGltZS4KY29uc3QgTUFYX1BBWUxPQURfU0laRSA9IDEwMCAqIDEwMjQ7Ci8vIE1heCBhbW91bnQgb2YgdGltZSB0byBibG9jayB3YWl0aW5nIGZvciB0aGUgdXNlci4KY29uc3QgRklMRV9DSEFOR0VfVElNRU9VVF9NUyA9IDMwICogMTAwMDsKCmZ1bmN0aW9uIF91cGxvYWRGaWxlcyhpbnB1dElkLCBvdXRwdXRJZCkgewogIGNvbnN0IHN0ZXBzID0gdXBsb2FkRmlsZXNTdGVwKGlucHV0SWQsIG91dHB1dElkKTsKICBjb25zdCBvdXRwdXRFbGVtZW50ID0gZG9jdW1lbnQuZ2V0RWxlbWVudEJ5SWQob3V0cHV0SWQpOwogIC8vIENhY2hlIHN0ZXBzIG9uIHRoZSBvdXRwdXRFbGVtZW50IHRvIG1ha2UgaXQgYXZhaWxhYmxlIGZvciB0aGUgbmV4dCBjYWxsCiAgLy8gdG8gdXBsb2FkRmlsZXNDb250aW51ZSBmcm9tIFB5dGhvbi4KICBvdXRwdXRFbGVtZW50LnN0ZXBzID0gc3RlcHM7CgogIHJldHVybiBfdXBsb2FkRmlsZXNDb250aW51ZShvdXRwdXRJZCk7Cn0KCi8vIFRoaXMgaXMgcm91Z2hseSBhbiBhc3luYyBnZW5lcmF0b3IgKG5vdCBzdXBwb3J0ZWQgaW4gdGhlIGJyb3dzZXIgeWV0KSwKLy8gd2hlcmUgdGhlcmUgYXJlIG11bHRpcGxlIGFzeW5jaHJvbm91cyBzdGVwcyBhbmQgdGhlIFB5dGhvbiBzaWRlIGlzIGdvaW5nCi8vIHRvIHBvbGwgZm9yIGNvbXBsZXRpb24gb2YgZWFjaCBzdGVwLgovLyBUaGlzIHVzZXMgYSBQcm9taXNlIHRvIGJsb2NrIHRoZSBweXRob24gc2lkZSBvbiBjb21wbGV0aW9uIG9mIGVhY2ggc3RlcCwKLy8gdGhlbiBwYXNzZXMgdGhlIHJlc3VsdCBvZiB0aGUgcHJldmlvdXMgc3RlcCBhcyB0aGUgaW5wdXQgdG8gdGhlIG5leHQgc3RlcC4KZnVuY3Rpb24gX3VwbG9hZEZpbGVzQ29udGludWUob3V0cHV0SWQpIHsKICBjb25zdCBvdXRwdXRFbGVtZW50ID0gZG9jdW1lbnQuZ2V0RWxlbWVudEJ5SWQob3V0cHV0SWQpOwogIGNvbnN0IHN0ZXBzID0gb3V0cHV0RWxlbWVudC5zdGVwczsKCiAgY29uc3QgbmV4dCA9IHN0ZXBzLm5leHQob3V0cHV0RWxlbWVudC5sYXN0UHJvbWlzZVZhbHVlKTsKICByZXR1cm4gUHJvbWlzZS5yZXNvbHZlKG5leHQudmFsdWUucHJvbWlzZSkudGhlbigodmFsdWUpID0+IHsKICAgIC8vIENhY2hlIHRoZSBsYXN0IHByb21pc2UgdmFsdWUgdG8gbWFrZSBpdCBhdmFpbGFibGUgdG8gdGhlIG5leHQKICAgIC8vIHN0ZXAgb2YgdGhlIGdlbmVyYXRvci4KICAgIG91dHB1dEVsZW1lbnQubGFzdFByb21pc2VWYWx1ZSA9IHZhbHVlOwogICAgcmV0dXJuIG5leHQudmFsdWUucmVzcG9uc2U7CiAgfSk7Cn0KCi8qKgogKiBHZW5lcmF0b3IgZnVuY3Rpb24gd2hpY2ggaXMgY2FsbGVkIGJldHdlZW4gZWFjaCBhc3luYyBzdGVwIG9mIHRoZSB1cGxvYWQKICogcHJvY2Vzcy4KICogQHBhcmFtIHtzdHJpbmd9IGlucHV0SWQgRWxlbWVudCBJRCBvZiB0aGUgaW5wdXQgZmlsZSBwaWNrZXIgZWxlbWVudC4KICogQHBhcmFtIHtzdHJpbmd9IG91dHB1dElkIEVsZW1lbnQgSUQgb2YgdGhlIG91dHB1dCBkaXNwbGF5LgogKiBAcmV0dXJuIHshSXRlcmFibGU8IU9iamVjdD59IEl0ZXJhYmxlIG9mIG5leHQgc3RlcHMuCiAqLwpmdW5jdGlvbiogdXBsb2FkRmlsZXNTdGVwKGlucHV0SWQsIG91dHB1dElkKSB7CiAgY29uc3QgaW5wdXRFbGVtZW50ID0gZG9jdW1lbnQuZ2V0RWxlbWVudEJ5SWQoaW5wdXRJZCk7CiAgaW5wdXRFbGVtZW50LmRpc2FibGVkID0gZmFsc2U7CgogIGNvbnN0IG91dHB1dEVsZW1lbnQgPSBkb2N1bWVudC5nZXRFbGVtZW50QnlJZChvdXRwdXRJZCk7CiAgb3V0cHV0RWxlbWVudC5pbm5lckhUTUwgPSAnJzsKCiAgY29uc3QgcGlja2VkUHJvbWlzZSA9IG5ldyBQcm9taXNlKChyZXNvbHZlKSA9PiB7CiAgICBpbnB1dEVsZW1lbnQuYWRkRXZlbnRMaXN0ZW5lcignY2hhbmdlJywgKGUpID0+IHsKICAgICAgcmVzb2x2ZShlLnRhcmdldC5maWxlcyk7CiAgICB9KTsKICB9KTsKCiAgY29uc3QgY2FuY2VsID0gZG9jdW1lbnQuY3JlYXRlRWxlbWVudCgnYnV0dG9uJyk7CiAgaW5wdXRFbGVtZW50LnBhcmVudEVsZW1lbnQuYXBwZW5kQ2hpbGQoY2FuY2VsKTsKICBjYW5jZWwudGV4dENvbnRlbnQgPSAnQ2FuY2VsIHVwbG9hZCc7CiAgY29uc3QgY2FuY2VsUHJvbWlzZSA9IG5ldyBQcm9taXNlKChyZXNvbHZlKSA9PiB7CiAgICBjYW5jZWwub25jbGljayA9ICgpID0+IHsKICAgICAgcmVzb2x2ZShudWxsKTsKICAgIH07CiAgfSk7CgogIC8vIENhbmNlbCB1cGxvYWQgaWYgdXNlciBoYXNuJ3QgcGlja2VkIGFueXRoaW5nIGluIHRpbWVvdXQuCiAgY29uc3QgdGltZW91dFByb21pc2UgPSBuZXcgUHJvbWlzZSgocmVzb2x2ZSkgPT4gewogICAgc2V0VGltZW91dCgoKSA9PiB7CiAgICAgIHJlc29sdmUobnVsbCk7CiAgICB9LCBGSUxFX0NIQU5HRV9USU1FT1VUX01TKTsKICB9KTsKCiAgLy8gV2FpdCBmb3IgdGhlIHVzZXIgdG8gcGljayB0aGUgZmlsZXMuCiAgY29uc3QgZmlsZXMgPSB5aWVsZCB7CiAgICBwcm9taXNlOiBQcm9taXNlLnJhY2UoW3BpY2tlZFByb21pc2UsIHRpbWVvdXRQcm9taXNlLCBjYW5jZWxQcm9taXNlXSksCiAgICByZXNwb25zZTogewogICAgICBhY3Rpb246ICdzdGFydGluZycsCiAgICB9CiAgfTsKCiAgaWYgKCFmaWxlcykgewogICAgcmV0dXJuIHsKICAgICAgcmVzcG9uc2U6IHsKICAgICAgICBhY3Rpb246ICdjb21wbGV0ZScsCiAgICAgIH0KICAgIH07CiAgfQoKICBjYW5jZWwucmVtb3ZlKCk7CgogIC8vIERpc2FibGUgdGhlIGlucHV0IGVsZW1lbnQgc2luY2UgZnVydGhlciBwaWNrcyBhcmUgbm90IGFsbG93ZWQuCiAgaW5wdXRFbGVtZW50LmRpc2FibGVkID0gdHJ1ZTsKCiAgZm9yIChjb25zdCBmaWxlIG9mIGZpbGVzKSB7CiAgICBjb25zdCBsaSA9IGRvY3VtZW50LmNyZWF0ZUVsZW1lbnQoJ2xpJyk7CiAgICBsaS5hcHBlbmQoc3BhbihmaWxlLm5hbWUsIHtmb250V2VpZ2h0OiAnYm9sZCd9KSk7CiAgICBsaS5hcHBlbmQoc3BhbigKICAgICAgICBgKCR7ZmlsZS50eXBlIHx8ICduL2EnfSkgLSAke2ZpbGUuc2l6ZX0gYnl0ZXMsIGAgKwogICAgICAgIGBsYXN0IG1vZGlmaWVkOiAkewogICAgICAgICAgICBmaWxlLmxhc3RNb2RpZmllZERhdGUgPyBmaWxlLmxhc3RNb2RpZmllZERhdGUudG9Mb2NhbGVEYXRlU3RyaW5nKCkgOgogICAgICAgICAgICAgICAgICAgICAgICAgICAgICAgICAgICAnbi9hJ30gLSBgKSk7CiAgICBjb25zdCBwZXJjZW50ID0gc3BhbignMCUgZG9uZScpOwogICAgbGkuYXBwZW5kQ2hpbGQocGVyY2VudCk7CgogICAgb3V0cHV0RWxlbWVudC5hcHBlbmRDaGlsZChsaSk7CgogICAgY29uc3QgZmlsZURhdGFQcm9taXNlID0gbmV3IFByb21pc2UoKHJlc29sdmUpID0+IHsKICAgICAgY29uc3QgcmVhZGVyID0gbmV3IEZpbGVSZWFkZXIoKTsKICAgICAgcmVhZGVyLm9ubG9hZCA9IChlKSA9PiB7CiAgICAgICAgcmVzb2x2ZShlLnRhcmdldC5yZXN1bHQpOwogICAgICB9OwogICAgICByZWFkZXIucmVhZEFzQXJyYXlCdWZmZXIoZmlsZSk7CiAgICB9KTsKICAgIC8vIFdhaXQgZm9yIHRoZSBkYXRhIHRvIGJlIHJlYWR5LgogICAgbGV0IGZpbGVEYXRhID0geWllbGQgewogICAgICBwcm9taXNlOiBmaWxlRGF0YVByb21pc2UsCiAgICAgIHJlc3BvbnNlOiB7CiAgICAgICAgYWN0aW9uOiAnY29udGludWUnLAogICAgICB9CiAgICB9OwoKICAgIC8vIFVzZSBhIGNodW5rZWQgc2VuZGluZyB0byBhdm9pZCBtZXNzYWdlIHNpemUgbGltaXRzLiBTZWUgYi82MjExNTY2MC4KICAgIGxldCBwb3NpdGlvbiA9IDA7CiAgICB3aGlsZSAocG9zaXRpb24gPCBmaWxlRGF0YS5ieXRlTGVuZ3RoKSB7CiAgICAgIGNvbnN0IGxlbmd0aCA9IE1hdGgubWluKGZpbGVEYXRhLmJ5dGVMZW5ndGggLSBwb3NpdGlvbiwgTUFYX1BBWUxPQURfU0laRSk7CiAgICAgIGNvbnN0IGNodW5rID0gbmV3IFVpbnQ4QXJyYXkoZmlsZURhdGEsIHBvc2l0aW9uLCBsZW5ndGgpOwogICAgICBwb3NpdGlvbiArPSBsZW5ndGg7CgogICAgICBjb25zdCBiYXNlNjQgPSBidG9hKFN0cmluZy5mcm9tQ2hhckNvZGUuYXBwbHkobnVsbCwgY2h1bmspKTsKICAgICAgeWllbGQgewogICAgICAgIHJlc3BvbnNlOiB7CiAgICAgICAgICBhY3Rpb246ICdhcHBlbmQnLAogICAgICAgICAgZmlsZTogZmlsZS5uYW1lLAogICAgICAgICAgZGF0YTogYmFzZTY0LAogICAgICAgIH0sCiAgICAgIH07CiAgICAgIHBlcmNlbnQudGV4dENvbnRlbnQgPQogICAgICAgICAgYCR7TWF0aC5yb3VuZCgocG9zaXRpb24gLyBmaWxlRGF0YS5ieXRlTGVuZ3RoKSAqIDEwMCl9JSBkb25lYDsKICAgIH0KICB9CgogIC8vIEFsbCBkb25lLgogIHlpZWxkIHsKICAgIHJlc3BvbnNlOiB7CiAgICAgIGFjdGlvbjogJ2NvbXBsZXRlJywKICAgIH0KICB9Owp9CgpzY29wZS5nb29nbGUgPSBzY29wZS5nb29nbGUgfHwge307CnNjb3BlLmdvb2dsZS5jb2xhYiA9IHNjb3BlLmdvb2dsZS5jb2xhYiB8fCB7fTsKc2NvcGUuZ29vZ2xlLmNvbGFiLl9maWxlcyA9IHsKICBfdXBsb2FkRmlsZXMsCiAgX3VwbG9hZEZpbGVzQ29udGludWUsCn07Cn0pKHNlbGYpOwo=",
              "ok": true,
              "headers": [
                [
                  "content-type",
                  "application/javascript"
                ]
              ],
              "status": 200,
              "status_text": ""
            }
          },
          "base_uri": "https://localhost:8080/",
          "height": 75
        }
      },
      "source": [
        "from google.colab import files\n",
        "data1 = files.upload()"
      ],
      "execution_count": 57,
      "outputs": [
        {
          "output_type": "display_data",
          "data": {
            "text/html": [
              "\n",
              "     <input type=\"file\" id=\"files-1bcab063-3d06-42b2-b9a7-fafc46eadc68\" name=\"files[]\" multiple disabled />\n",
              "     <output id=\"result-1bcab063-3d06-42b2-b9a7-fafc46eadc68\">\n",
              "      Upload widget is only available when the cell has been executed in the\n",
              "      current browser session. Please rerun this cell to enable.\n",
              "      </output>\n",
              "      <script src=\"/nbextensions/google.colab/files.js\"></script> "
            ],
            "text/plain": [
              "<IPython.core.display.HTML object>"
            ]
          },
          "metadata": {
            "tags": []
          }
        },
        {
          "output_type": "stream",
          "text": [
            "Saving table1_final.csv to table1_final (1).csv\n"
          ],
          "name": "stdout"
        }
      ]
    },
    {
      "cell_type": "code",
      "metadata": {
        "id": "L9FDp2Vg3ApV",
        "colab_type": "code",
        "colab": {}
      },
      "source": [
        "import io\n",
        "df2 = pd.read_csv(io.BytesIO(data1['table1_final.csv']))\n",
        "# Dataset is now stored in a Pandas Dataframe"
      ],
      "execution_count": 0,
      "outputs": []
    },
    {
      "cell_type": "code",
      "metadata": {
        "id": "yKx-wjrL3Apc",
        "colab_type": "code",
        "colab": {}
      },
      "source": [
        "table1 = df2"
      ],
      "execution_count": 0,
      "outputs": []
    },
    {
      "cell_type": "code",
      "metadata": {
        "id": "nZvOAG1s8Edg",
        "colab_type": "code",
        "outputId": "eff9b12a-4d46-4d25-89ba-bb64cb488338",
        "colab": {
          "base_uri": "https://localhost:8080/",
          "height": 163
        }
      },
      "source": [
        "table1.head(2)"
      ],
      "execution_count": 5,
      "outputs": [
        {
          "output_type": "execute_result",
          "data": {
            "text/html": [
              "<div>\n",
              "<style scoped>\n",
              "    .dataframe tbody tr th:only-of-type {\n",
              "        vertical-align: middle;\n",
              "    }\n",
              "\n",
              "    .dataframe tbody tr th {\n",
              "        vertical-align: top;\n",
              "    }\n",
              "\n",
              "    .dataframe thead th {\n",
              "        text-align: right;\n",
              "    }\n",
              "</style>\n",
              "<table border=\"1\" class=\"dataframe\">\n",
              "  <thead>\n",
              "    <tr style=\"text-align: right;\">\n",
              "      <th></th>\n",
              "      <th>Review_text</th>\n",
              "      <th>phone</th>\n",
              "      <th>amazon</th>\n",
              "      <th>android</th>\n",
              "      <th>backup</th>\n",
              "      <th>battery</th>\n",
              "      <th>beast</th>\n",
              "      <th>bite</th>\n",
              "      <th>brand</th>\n",
              "      <th>budget</th>\n",
              "      <th>call</th>\n",
              "      <th>camera</th>\n",
              "      <th>charge</th>\n",
              "      <th>charger</th>\n",
              "      <th>dash</th>\n",
              "      <th>deal</th>\n",
              "      <th>delivery</th>\n",
              "      <th>design</th>\n",
              "      <th>device</th>\n",
              "      <th>display</th>\n",
              "      <th>experience</th>\n",
              "      <th>feature</th>\n",
              "      <th>flagship</th>\n",
              "      <th>game</th>\n",
              "      <th>headphone</th>\n",
              "      <th>heat</th>\n",
              "      <th>issue</th>\n",
              "      <th>lag</th>\n",
              "      <th>life</th>\n",
              "      <th>look</th>\n",
              "      <th>market</th>\n",
              "      <th>mobile</th>\n",
              "      <th>money</th>\n",
              "      <th>performance</th>\n",
              "      <th>phone.1</th>\n",
              "      <th>photo</th>\n",
              "      <th>picture</th>\n",
              "      <th>price</th>\n",
              "      <th>problem</th>\n",
              "      <th>processor</th>\n",
              "      <th>product</th>\n",
              "      <th>purchase</th>\n",
              "      <th>quality</th>\n",
              "      <th>ram</th>\n",
              "      <th>range</th>\n",
              "      <th>review</th>\n",
              "      <th>sale</th>\n",
              "      <th>screen</th>\n",
              "      <th>service</th>\n",
              "      <th>smartphone</th>\n",
              "      <th>software</th>\n",
              "      <th>sound</th>\n",
              "      <th>speaker</th>\n",
              "      <th>time</th>\n",
              "      <th>update</th>\n",
              "      <th>usage</th>\n",
              "      <th>user</th>\n",
              "      <th>value</th>\n",
              "      <th>video</th>\n",
              "    </tr>\n",
              "  </thead>\n",
              "  <tbody>\n",
              "    <tr>\n",
              "      <th>0</th>\n",
              "      <td>Best phone ever</td>\n",
              "      <td>1</td>\n",
              "      <td>0</td>\n",
              "      <td>0</td>\n",
              "      <td>0</td>\n",
              "      <td>0</td>\n",
              "      <td>0</td>\n",
              "      <td>0</td>\n",
              "      <td>0</td>\n",
              "      <td>0</td>\n",
              "      <td>0</td>\n",
              "      <td>0</td>\n",
              "      <td>0</td>\n",
              "      <td>0</td>\n",
              "      <td>0</td>\n",
              "      <td>0</td>\n",
              "      <td>0</td>\n",
              "      <td>0</td>\n",
              "      <td>0</td>\n",
              "      <td>0</td>\n",
              "      <td>0</td>\n",
              "      <td>0</td>\n",
              "      <td>0</td>\n",
              "      <td>0</td>\n",
              "      <td>0</td>\n",
              "      <td>0</td>\n",
              "      <td>0</td>\n",
              "      <td>0</td>\n",
              "      <td>0</td>\n",
              "      <td>0</td>\n",
              "      <td>0</td>\n",
              "      <td>0</td>\n",
              "      <td>0</td>\n",
              "      <td>0</td>\n",
              "      <td>1</td>\n",
              "      <td>0</td>\n",
              "      <td>0</td>\n",
              "      <td>0</td>\n",
              "      <td>0</td>\n",
              "      <td>0</td>\n",
              "      <td>0</td>\n",
              "      <td>0</td>\n",
              "      <td>0</td>\n",
              "      <td>0</td>\n",
              "      <td>0</td>\n",
              "      <td>0</td>\n",
              "      <td>0</td>\n",
              "      <td>0</td>\n",
              "      <td>0</td>\n",
              "      <td>0</td>\n",
              "      <td>0</td>\n",
              "      <td>0</td>\n",
              "      <td>0</td>\n",
              "      <td>0</td>\n",
              "      <td>0</td>\n",
              "      <td>0</td>\n",
              "      <td>0</td>\n",
              "      <td>0</td>\n",
              "      <td>0</td>\n",
              "    </tr>\n",
              "    <tr>\n",
              "      <th>1</th>\n",
              "      <td>One of the best phone!</td>\n",
              "      <td>1</td>\n",
              "      <td>0</td>\n",
              "      <td>0</td>\n",
              "      <td>0</td>\n",
              "      <td>0</td>\n",
              "      <td>0</td>\n",
              "      <td>0</td>\n",
              "      <td>0</td>\n",
              "      <td>0</td>\n",
              "      <td>0</td>\n",
              "      <td>0</td>\n",
              "      <td>0</td>\n",
              "      <td>0</td>\n",
              "      <td>0</td>\n",
              "      <td>0</td>\n",
              "      <td>0</td>\n",
              "      <td>0</td>\n",
              "      <td>0</td>\n",
              "      <td>0</td>\n",
              "      <td>0</td>\n",
              "      <td>0</td>\n",
              "      <td>0</td>\n",
              "      <td>0</td>\n",
              "      <td>0</td>\n",
              "      <td>0</td>\n",
              "      <td>0</td>\n",
              "      <td>0</td>\n",
              "      <td>0</td>\n",
              "      <td>0</td>\n",
              "      <td>0</td>\n",
              "      <td>0</td>\n",
              "      <td>0</td>\n",
              "      <td>0</td>\n",
              "      <td>1</td>\n",
              "      <td>0</td>\n",
              "      <td>0</td>\n",
              "      <td>0</td>\n",
              "      <td>0</td>\n",
              "      <td>0</td>\n",
              "      <td>0</td>\n",
              "      <td>0</td>\n",
              "      <td>0</td>\n",
              "      <td>0</td>\n",
              "      <td>0</td>\n",
              "      <td>0</td>\n",
              "      <td>0</td>\n",
              "      <td>0</td>\n",
              "      <td>0</td>\n",
              "      <td>0</td>\n",
              "      <td>0</td>\n",
              "      <td>0</td>\n",
              "      <td>0</td>\n",
              "      <td>0</td>\n",
              "      <td>0</td>\n",
              "      <td>0</td>\n",
              "      <td>0</td>\n",
              "      <td>0</td>\n",
              "      <td>0</td>\n",
              "    </tr>\n",
              "  </tbody>\n",
              "</table>\n",
              "</div>"
            ],
            "text/plain": [
              "              Review_text  phone  amazon  android  ...  usage  user  value  video\n",
              "0         Best phone ever      1       0        0  ...      0     0      0      0\n",
              "1  One of the best phone!      1       0        0  ...      0     0      0      0\n",
              "\n",
              "[2 rows x 59 columns]"
            ]
          },
          "metadata": {
            "tags": []
          },
          "execution_count": 5
        }
      ]
    },
    {
      "cell_type": "code",
      "metadata": {
        "id": "_PvhUFYs3Apf",
        "colab_type": "code",
        "colab": {}
      },
      "source": [
        "import nltk\n",
        "\n",
        "#De-Emojify\n",
        "def deEmojify(inputString):\n",
        "    return inputString.encode('ascii', 'ignore').decode('ascii')\n",
        "\n",
        "#Remove Special Symbols other than (.), (,) and (!)\n",
        "def removeSymbols(inputString):\n",
        "    return(inputString.translate(str.maketrans(\"\", \"\", \"#$%&\\'()*+-/:;<=>?@[\\\\]^_`{|}~\")))\n",
        "\n",
        "#Remove (.), (,) and (!) for later stage\n",
        "def remove_dot_comma_excl(inputString):\n",
        "    s = inputString.translate(str.maketrans(\".\", \" \", \"\"))\n",
        "    s = s.translate(str.maketrans(\",\", \" \", \"\"))\n",
        "    s = s.translate(str.maketrans(\"!\", \" \", \"\"))\n",
        "    return(' '.join(s.split()))\n",
        "\n",
        "\n",
        "#Text cleaning function -> Return a list of tokenized sentence\n",
        "#(Which will be used for word tokenizarion followed by POS tagging)\n",
        "\n",
        "def clean_review1(review):\n",
        "    r = review.lower()\n",
        "    r = removeSymbols(r)\n",
        "    r = deEmojify(r)\n",
        "    r = nltk.sent_tokenize(r)\n",
        "\n",
        "    tokens = []\n",
        "    for sentence in r:\n",
        "        #print(sentence)\n",
        "        if '.' in sentence:\n",
        "            sentence = sentence.split('.')\n",
        "            for _s in sentence:\n",
        "                if _s == '':\n",
        "                    continue\n",
        "                else:\n",
        "                    tokens.append(_s.strip(' .,!')) \n",
        "        else:\n",
        "            if len(sentence) > 0:\n",
        "                    tokens.append(sentence)\n",
        "    return(tokens)"
      ],
      "execution_count": 0,
      "outputs": []
    },
    {
      "cell_type": "code",
      "metadata": {
        "id": "xJImdB_w6URw",
        "colab_type": "code",
        "colab": {
          "base_uri": "https://localhost:8080/",
          "height": 72
        },
        "outputId": "8e275cc5-d262-44f7-e6ee-67e0219ade29"
      },
      "source": [
        "nltk.download('punkt')"
      ],
      "execution_count": 9,
      "outputs": [
        {
          "output_type": "stream",
          "text": [
            "[nltk_data] Downloading package punkt to /root/nltk_data...\n",
            "[nltk_data]   Unzipping tokenizers/punkt.zip.\n"
          ],
          "name": "stdout"
        },
        {
          "output_type": "execute_result",
          "data": {
            "text/plain": [
              "True"
            ]
          },
          "metadata": {
            "tags": []
          },
          "execution_count": 9
        }
      ]
    },
    {
      "cell_type": "code",
      "metadata": {
        "id": "tVGhJx7w3Api",
        "colab_type": "code",
        "outputId": "8ca515aa-1d54-4a5a-b55c-32524875d16d",
        "colab": {
          "base_uri": "https://localhost:8080/",
          "height": 108
        }
      },
      "source": [
        "# clean_review1('best phone ever ....heelo.')\n",
        "clean_review1(\"one plus 6 is extremely worth for it's price and moreover in Amazon sale it's even beyond that. 35k for this phone is worth buying but in Amazon sale it costs me 27k. it's just mind blowing deal for me.\\n.\\nA fast device with perfect photo clicking quality. Definitely the best phone to buy\")"
      ],
      "execution_count": 10,
      "outputs": [
        {
          "output_type": "execute_result",
          "data": {
            "text/plain": [
              "['one plus 6 is extremely worth for its price and moreover in amazon sale its even beyond that',\n",
              " '35k for this phone is worth buying but in amazon sale it costs me 27k',\n",
              " 'its just mind blowing deal for me',\n",
              " 'a fast device with perfect photo clicking quality',\n",
              " 'definitely the best phone to buy']"
            ]
          },
          "metadata": {
            "tags": []
          },
          "execution_count": 10
        }
      ]
    },
    {
      "cell_type": "code",
      "metadata": {
        "id": "XPepTiVN6iC_",
        "colab_type": "code",
        "outputId": "308394cf-effb-4517-a288-d8b70fc9b2c9",
        "colab": {
          "base_uri": "https://localhost:8080/",
          "height": 72
        }
      },
      "source": [
        ""
      ],
      "execution_count": 11,
      "outputs": [
        {
          "output_type": "stream",
          "text": [
            "[nltk_data] Downloading package punkt to /root/nltk_data...\n",
            "[nltk_data]   Package punkt is already up-to-date!\n"
          ],
          "name": "stdout"
        },
        {
          "output_type": "execute_result",
          "data": {
            "text/plain": [
              "pandas.core.frame.DataFrame"
            ]
          },
          "metadata": {
            "tags": []
          },
          "execution_count": 11
        }
      ]
    },
    {
      "cell_type": "code",
      "metadata": {
        "id": "I7uZxgiJ3Apk",
        "colab_type": "code",
        "outputId": "d9e321d0-124f-49fe-b0ec-faa3ef04a7e6",
        "colab": {
          "base_uri": "https://localhost:8080/",
          "height": 55
        }
      },
      "source": [
        "table1.Review_text[2]\n",
        "# clean_review1(a)"
      ],
      "execution_count": 12,
      "outputs": [
        {
          "output_type": "execute_result",
          "data": {
            "text/plain": [
              "\"one plus 6 is extremely worth for it's price and moreover in Amazon sale it's even beyond that. 35k for this phone is worth buying but in Amazon sale it costs me 27k. it's just mind blowing deal for me.\\r\\n.\\r\\nA fast device with perfect photo clicking quality. Definitely the best phone to buy\""
            ]
          },
          "metadata": {
            "tags": []
          },
          "execution_count": 12
        }
      ]
    },
    {
      "cell_type": "code",
      "metadata": {
        "id": "PdxMQmTB3Apn",
        "colab_type": "code",
        "colab": {}
      },
      "source": [
        "def check_nn_adj(sent,noun):\n",
        "    #sent = clean_review1(sent)\n",
        "#     print(sent)\n",
        "    adj=[];dist=100;\n",
        "    if noun in sent:\n",
        "#         print(noun, sent)\n",
        "        postag = nltk.pos_tag(nltk.word_tokenize(sent));\n",
        "#         print(postag)\n",
        "        for _i in range(0,len(postag)):\n",
        "            if postag[_i][1] in ['JJ','JJS']:\n",
        "                adj.append([postag[_i][0],_i])\n",
        "    return (adj)"
      ],
      "execution_count": 0,
      "outputs": []
    },
    {
      "cell_type": "code",
      "metadata": {
        "id": "9VQj1ddN9df9",
        "colab_type": "code",
        "outputId": "6108f0ad-b10b-4f9a-99a2-78b28caa6ec7",
        "colab": {
          "base_uri": "https://localhost:8080/",
          "height": 126
        }
      },
      "source": [
        "nltk.download('averaged_perceptron_tagger')"
      ],
      "execution_count": 14,
      "outputs": [
        {
          "output_type": "stream",
          "text": [
            "[nltk_data] Downloading package punkt to /root/nltk_data...\n",
            "[nltk_data]   Package punkt is already up-to-date!\n",
            "[nltk_data] Downloading package averaged_perceptron_tagger to\n",
            "[nltk_data]     /root/nltk_data...\n",
            "[nltk_data]   Unzipping taggers/averaged_perceptron_tagger.zip.\n"
          ],
          "name": "stdout"
        },
        {
          "output_type": "execute_result",
          "data": {
            "text/plain": [
              "True"
            ]
          },
          "metadata": {
            "tags": []
          },
          "execution_count": 14
        }
      ]
    },
    {
      "cell_type": "code",
      "metadata": {
        "id": "dY-_pvG83Apq",
        "colab_type": "code",
        "outputId": "58ca81a4-8f64-474f-8ac8-e41709905b48",
        "colab": {
          "base_uri": "https://localhost:8080/",
          "height": 35
        }
      },
      "source": [
        "check_nn_adj('Definitely the best phone to buy', 'phone')\n",
        "# nltk.pos_tag(nltk.word_tokenize('not a good phone'))"
      ],
      "execution_count": 15,
      "outputs": [
        {
          "output_type": "execute_result",
          "data": {
            "text/plain": [
              "[('not', 'RB'), ('a', 'DT'), ('good', 'JJ'), ('phone', 'NN')]"
            ]
          },
          "metadata": {
            "tags": []
          },
          "execution_count": 15
        }
      ]
    },
    {
      "cell_type": "code",
      "metadata": {
        "id": "opPS-POX3Aps",
        "colab_type": "code",
        "colab": {}
      },
      "source": [
        "def check_nn_adv(sent,noun):\n",
        "    #sent = clean_review1(sent)\n",
        "#     print(sent)\n",
        "    adv=[];dist=100;\n",
        "    if noun in sent:\n",
        "#         print(noun, sent)\n",
        "        postag = nltk.pos_tag(nltk.word_tokenize(sent));\n",
        "#         print(postag)\n",
        "        for _i in range(0,len(postag)):\n",
        "            if postag[_i][1] in ['RB','RBR','RBS']:\n",
        "                adv.append([postag[_i][0],_i])\n",
        "    return (adv)"
      ],
      "execution_count": 0,
      "outputs": []
    },
    {
      "cell_type": "code",
      "metadata": {
        "id": "J-G_k1Zh3Apu",
        "colab_type": "code",
        "outputId": "d41f53c6-6f09-4808-fc53-bb5c9cffb277",
        "colab": {
          "base_uri": "https://localhost:8080/",
          "height": 35
        }
      },
      "source": [
        "check_nn_adv('a fast device with perfect photo clicking quality', 'phone')"
      ],
      "execution_count": 17,
      "outputs": [
        {
          "output_type": "execute_result",
          "data": {
            "text/plain": [
              "[]"
            ]
          },
          "metadata": {
            "tags": []
          },
          "execution_count": 17
        }
      ]
    },
    {
      "cell_type": "code",
      "metadata": {
        "id": "wBfNIbJ63Apx",
        "colab_type": "code",
        "colab": {}
      },
      "source": [
        "def check_nn_vrb(sent,noun):\n",
        "    #sent = clean_review1(sent)\n",
        "#     print(sent)\n",
        "    vrb=[];dist=100;\n",
        "    if noun in sent:\n",
        "#         print(noun, sent)\n",
        "        postag = nltk.pos_tag(nltk.word_tokenize(sent));\n",
        "#         print(postag)\n",
        "        for _i in range(0,len(postag)):\n",
        "            if postag[_i][1] in ['VBD','VBG','VPN']:\n",
        "                vrb.append([postag[_i][0],_i])\n",
        "    return (vrb)"
      ],
      "execution_count": 0,
      "outputs": []
    },
    {
      "cell_type": "code",
      "metadata": {
        "id": "V62ju_H23Apz",
        "colab_type": "code",
        "outputId": "8c8872f7-9513-4ac7-ebf9-7dc191938def",
        "colab": {
          "base_uri": "https://localhost:8080/",
          "height": 35
        }
      },
      "source": [
        "check_nn_vrb('a fast device with perfect photo clicking quality', 'device')"
      ],
      "execution_count": 19,
      "outputs": [
        {
          "output_type": "execute_result",
          "data": {
            "text/plain": [
              "[['clicking', 6]]"
            ]
          },
          "metadata": {
            "tags": []
          },
          "execution_count": 19
        }
      ]
    },
    {
      "cell_type": "code",
      "metadata": {
        "id": "CpHsc8og3Ap4",
        "colab_type": "code",
        "colab": {}
      },
      "source": [
        ""
      ],
      "execution_count": 0,
      "outputs": []
    },
    {
      "cell_type": "code",
      "metadata": {
        "id": "XzZUxETW3Ap6",
        "colab_type": "code",
        "colab": {}
      },
      "source": [
        ""
      ],
      "execution_count": 0,
      "outputs": []
    },
    {
      "cell_type": "code",
      "metadata": {
        "id": "t1g_M5W23Ap8",
        "colab_type": "code",
        "colab": {}
      },
      "source": [
        ""
      ],
      "execution_count": 0,
      "outputs": []
    },
    {
      "cell_type": "code",
      "metadata": {
        "id": "MWgHIOEr3Ap-",
        "colab_type": "code",
        "colab": {}
      },
      "source": [
        "# Nearest Verb or adjective\n",
        "\n",
        "def nearest(postag,noun,adj,vrb):\n",
        "    adj_ind=[]; nn_ind=[]; reslist=[]\n",
        "    for i,pos in enumerate(postag):\n",
        "        if postag[i][0].lower() == noun:\n",
        "            nn_ind.append(i+1)\n",
        "#     print('n ==  ',nn_ind)\n",
        "    least_dist=100\n",
        "    pos=''\n",
        "    least_wrd=''\n",
        "    ptag=''\n",
        "    for i in nn_ind:\n",
        "        flg=1\n",
        "        for j in adj:\n",
        "#             print(i, j[1])\n",
        "            dist = abs(i - j[1])\n",
        "            if least_dist > dist:\n",
        "                least_dist = dist\n",
        "                least_wrd = j[0]\n",
        "                pos = j[1]\n",
        "                ptag = 'ADJ'\n",
        "        for k in vrb:\n",
        "            dist = abs(i - k[1])\n",
        "            if least_dist > dist:\n",
        "                least_dist = dist\n",
        "                least_wrd = k[0]\n",
        "                pos = k[1]\n",
        "                ptag = 'VRB'\n",
        "#     print([least_dist,least_wrd])\n",
        "        if flg != '':\n",
        "            reslist=[least_wrd,pos,ptag]\n",
        "        else:\n",
        "            reslist = []            \n",
        "            \n",
        "    return reslist"
      ],
      "execution_count": 0,
      "outputs": []
    },
    {
      "cell_type": "code",
      "metadata": {
        "id": "XD2WPyiy3AqA",
        "colab_type": "code",
        "outputId": "9baae92d-0375-4ac1-a85b-e2c20dba776d",
        "colab": {
          "base_uri": "https://localhost:8080/",
          "height": 163
        }
      },
      "source": [
        "dfadj = table1\n",
        "dfvrb = table1\n",
        "dfadj.head(2)"
      ],
      "execution_count": 23,
      "outputs": [
        {
          "output_type": "execute_result",
          "data": {
            "text/html": [
              "<div>\n",
              "<style scoped>\n",
              "    .dataframe tbody tr th:only-of-type {\n",
              "        vertical-align: middle;\n",
              "    }\n",
              "\n",
              "    .dataframe tbody tr th {\n",
              "        vertical-align: top;\n",
              "    }\n",
              "\n",
              "    .dataframe thead th {\n",
              "        text-align: right;\n",
              "    }\n",
              "</style>\n",
              "<table border=\"1\" class=\"dataframe\">\n",
              "  <thead>\n",
              "    <tr style=\"text-align: right;\">\n",
              "      <th></th>\n",
              "      <th>Review_text</th>\n",
              "      <th>phone</th>\n",
              "      <th>amazon</th>\n",
              "      <th>android</th>\n",
              "      <th>backup</th>\n",
              "      <th>battery</th>\n",
              "      <th>beast</th>\n",
              "      <th>bite</th>\n",
              "      <th>brand</th>\n",
              "      <th>budget</th>\n",
              "      <th>call</th>\n",
              "      <th>camera</th>\n",
              "      <th>charge</th>\n",
              "      <th>charger</th>\n",
              "      <th>dash</th>\n",
              "      <th>deal</th>\n",
              "      <th>delivery</th>\n",
              "      <th>design</th>\n",
              "      <th>device</th>\n",
              "      <th>display</th>\n",
              "      <th>experience</th>\n",
              "      <th>feature</th>\n",
              "      <th>flagship</th>\n",
              "      <th>game</th>\n",
              "      <th>headphone</th>\n",
              "      <th>heat</th>\n",
              "      <th>issue</th>\n",
              "      <th>lag</th>\n",
              "      <th>life</th>\n",
              "      <th>look</th>\n",
              "      <th>market</th>\n",
              "      <th>mobile</th>\n",
              "      <th>money</th>\n",
              "      <th>performance</th>\n",
              "      <th>phone.1</th>\n",
              "      <th>photo</th>\n",
              "      <th>picture</th>\n",
              "      <th>price</th>\n",
              "      <th>problem</th>\n",
              "      <th>processor</th>\n",
              "      <th>product</th>\n",
              "      <th>purchase</th>\n",
              "      <th>quality</th>\n",
              "      <th>ram</th>\n",
              "      <th>range</th>\n",
              "      <th>review</th>\n",
              "      <th>sale</th>\n",
              "      <th>screen</th>\n",
              "      <th>service</th>\n",
              "      <th>smartphone</th>\n",
              "      <th>software</th>\n",
              "      <th>sound</th>\n",
              "      <th>speaker</th>\n",
              "      <th>time</th>\n",
              "      <th>update</th>\n",
              "      <th>usage</th>\n",
              "      <th>user</th>\n",
              "      <th>value</th>\n",
              "      <th>video</th>\n",
              "    </tr>\n",
              "  </thead>\n",
              "  <tbody>\n",
              "    <tr>\n",
              "      <th>0</th>\n",
              "      <td>Best phone ever</td>\n",
              "      <td>1</td>\n",
              "      <td>0</td>\n",
              "      <td>0</td>\n",
              "      <td>0</td>\n",
              "      <td>0</td>\n",
              "      <td>0</td>\n",
              "      <td>0</td>\n",
              "      <td>0</td>\n",
              "      <td>0</td>\n",
              "      <td>0</td>\n",
              "      <td>0</td>\n",
              "      <td>0</td>\n",
              "      <td>0</td>\n",
              "      <td>0</td>\n",
              "      <td>0</td>\n",
              "      <td>0</td>\n",
              "      <td>0</td>\n",
              "      <td>0</td>\n",
              "      <td>0</td>\n",
              "      <td>0</td>\n",
              "      <td>0</td>\n",
              "      <td>0</td>\n",
              "      <td>0</td>\n",
              "      <td>0</td>\n",
              "      <td>0</td>\n",
              "      <td>0</td>\n",
              "      <td>0</td>\n",
              "      <td>0</td>\n",
              "      <td>0</td>\n",
              "      <td>0</td>\n",
              "      <td>0</td>\n",
              "      <td>0</td>\n",
              "      <td>0</td>\n",
              "      <td>1</td>\n",
              "      <td>0</td>\n",
              "      <td>0</td>\n",
              "      <td>0</td>\n",
              "      <td>0</td>\n",
              "      <td>0</td>\n",
              "      <td>0</td>\n",
              "      <td>0</td>\n",
              "      <td>0</td>\n",
              "      <td>0</td>\n",
              "      <td>0</td>\n",
              "      <td>0</td>\n",
              "      <td>0</td>\n",
              "      <td>0</td>\n",
              "      <td>0</td>\n",
              "      <td>0</td>\n",
              "      <td>0</td>\n",
              "      <td>0</td>\n",
              "      <td>0</td>\n",
              "      <td>0</td>\n",
              "      <td>0</td>\n",
              "      <td>0</td>\n",
              "      <td>0</td>\n",
              "      <td>0</td>\n",
              "      <td>0</td>\n",
              "    </tr>\n",
              "    <tr>\n",
              "      <th>1</th>\n",
              "      <td>One of the best phone!</td>\n",
              "      <td>1</td>\n",
              "      <td>0</td>\n",
              "      <td>0</td>\n",
              "      <td>0</td>\n",
              "      <td>0</td>\n",
              "      <td>0</td>\n",
              "      <td>0</td>\n",
              "      <td>0</td>\n",
              "      <td>0</td>\n",
              "      <td>0</td>\n",
              "      <td>0</td>\n",
              "      <td>0</td>\n",
              "      <td>0</td>\n",
              "      <td>0</td>\n",
              "      <td>0</td>\n",
              "      <td>0</td>\n",
              "      <td>0</td>\n",
              "      <td>0</td>\n",
              "      <td>0</td>\n",
              "      <td>0</td>\n",
              "      <td>0</td>\n",
              "      <td>0</td>\n",
              "      <td>0</td>\n",
              "      <td>0</td>\n",
              "      <td>0</td>\n",
              "      <td>0</td>\n",
              "      <td>0</td>\n",
              "      <td>0</td>\n",
              "      <td>0</td>\n",
              "      <td>0</td>\n",
              "      <td>0</td>\n",
              "      <td>0</td>\n",
              "      <td>0</td>\n",
              "      <td>1</td>\n",
              "      <td>0</td>\n",
              "      <td>0</td>\n",
              "      <td>0</td>\n",
              "      <td>0</td>\n",
              "      <td>0</td>\n",
              "      <td>0</td>\n",
              "      <td>0</td>\n",
              "      <td>0</td>\n",
              "      <td>0</td>\n",
              "      <td>0</td>\n",
              "      <td>0</td>\n",
              "      <td>0</td>\n",
              "      <td>0</td>\n",
              "      <td>0</td>\n",
              "      <td>0</td>\n",
              "      <td>0</td>\n",
              "      <td>0</td>\n",
              "      <td>0</td>\n",
              "      <td>0</td>\n",
              "      <td>0</td>\n",
              "      <td>0</td>\n",
              "      <td>0</td>\n",
              "      <td>0</td>\n",
              "      <td>0</td>\n",
              "    </tr>\n",
              "  </tbody>\n",
              "</table>\n",
              "</div>"
            ],
            "text/plain": [
              "              Review_text  phone  amazon  android  ...  usage  user  value  video\n",
              "0         Best phone ever      1       0        0  ...      0     0      0      0\n",
              "1  One of the best phone!      1       0        0  ...      0     0      0      0\n",
              "\n",
              "[2 rows x 59 columns]"
            ]
          },
          "metadata": {
            "tags": []
          },
          "execution_count": 23
        }
      ]
    },
    {
      "cell_type": "code",
      "metadata": {
        "id": "opABtPl13AqC",
        "colab_type": "code",
        "colab": {}
      },
      "source": [
        "# Checking for opinion combination\n",
        "\n",
        "\n",
        "df_adj = pd.DataFrame(table1.Review_text)\n",
        "df_vrb = pd.DataFrame(table1.Review_text)\n",
        "for i in range(1,len(table1.columns)):\n",
        "#     print(table1.columns[i]) \n",
        "    for j in range(0, len(table1.Review_text)):\n",
        "        if table1.iloc[j,i] == 1:\n",
        "            clean_rev = clean_review1(table1.loc[j,'Review_text'])\n",
        "            for sent in clean_rev:\n",
        "                adj = check_nn_adj(sent,table1.columns[i])\n",
        "                vrb = check_nn_vrb(sent,table1.columns[i])\n",
        "#                 print(adj,'===',vrb)\n",
        "                sent = table1.loc[j,'Review_text'];noun=table1.columns[i]\n",
        "#                 print('sent ====' ,sent)\n",
        "#                 if len(adj) >=0:\n",
        "#                     for _i in range(0,len(adj)):\n",
        "#                         dist = _i[1] - \n",
        "#                 if len(adj)>0 and len(vrb) ==0:\n",
        "#                     postag = nltk.pos_tag(nltk.word_tokenize(sent));\n",
        "#                 print('adj == ',adj, postag)\n",
        "                postag = nltk.pos_tag(nltk.word_tokenize(sent));\n",
        "                res = nearest(postag,noun,adj,vrb)\n",
        "#                 print(res)\n",
        "                if res != []:\n",
        "                    if res[2] == 'ADJ':\n",
        "#                         print('enter')\n",
        "                \n",
        "                        if res[1]-1>=0 and postag[res[1]-1][1] in ['RB','RBR','RBS','RB']:\n",
        "                            opinion = [postag[res[1]-1][0] +','+ res[0]]\n",
        "                            dfadj.iloc[j,i]=opinion\n",
        "#                             print('if1',opinion)\n",
        "\n",
        "                        elif res[1]+1 < len(postag) and postag[res[1]+1][1] in ['JJ','JJS','RB','RBR','RBS']:\n",
        "                                opinion = postag[res[1]+1][0] +','+ res[0]\n",
        "                                dfadj.iloc[j,i]=opinion\n",
        "#                                 print('elif1',opinion)\n",
        "\n",
        "                        else:\n",
        "                            dfadj.iloc[j,i]=res[0]\n",
        "#                             print('else1',res[0])\n",
        "\n",
        "\n",
        "                    elif res[2] == 'VRB':\n",
        "                        \n",
        "                        if res[1]-1>=0 and postag[res[1]-1][1] in ['VBD','VBG','VPN','RB']:\n",
        "                            opinion = postag[res[1]-1][0] +','+ res[0]\n",
        "                            dfvrb.iloc[j,i]=opinion\n",
        "#                                 print('1',opinion,df_vrb.columns)\n",
        "                            \n",
        "                        elif len(postag)>res[1]+1 and postag[res[1]+1][1] in ['JJ','JJS','RB','RBR','RBS']:\n",
        "                            opinion = postag[res[1]+1][0] +','+ res[0]\n",
        "                            dfvrb.iloc[j,i]=opinion\n",
        "    #                                 print('1',opinion,df_adj.columns)\n",
        "                        else:\n",
        "                            df_vrb.loc[j,i]=res[0]\n",
        "    #                                 print('1',res[0],df_vrb.columns)\n",
        "\n",
        "\n",
        "#                 print('next sentence..................')"
      ],
      "execution_count": 0,
      "outputs": []
    },
    {
      "cell_type": "code",
      "metadata": {
        "id": "IVSqfznn3AqI",
        "colab_type": "code",
        "outputId": "f5e246f6-609e-4ce8-f7b8-bba012648eae",
        "colab": {
          "base_uri": "https://localhost:8080/",
          "height": 391
        }
      },
      "source": [
        "dfadj.head(5)"
      ],
      "execution_count": 25,
      "outputs": [
        {
          "output_type": "execute_result",
          "data": {
            "text/html": [
              "<div>\n",
              "<style scoped>\n",
              "    .dataframe tbody tr th:only-of-type {\n",
              "        vertical-align: middle;\n",
              "    }\n",
              "\n",
              "    .dataframe tbody tr th {\n",
              "        vertical-align: top;\n",
              "    }\n",
              "\n",
              "    .dataframe thead th {\n",
              "        text-align: right;\n",
              "    }\n",
              "</style>\n",
              "<table border=\"1\" class=\"dataframe\">\n",
              "  <thead>\n",
              "    <tr style=\"text-align: right;\">\n",
              "      <th></th>\n",
              "      <th>Review_text</th>\n",
              "      <th>phone</th>\n",
              "      <th>amazon</th>\n",
              "      <th>android</th>\n",
              "      <th>backup</th>\n",
              "      <th>battery</th>\n",
              "      <th>beast</th>\n",
              "      <th>bite</th>\n",
              "      <th>brand</th>\n",
              "      <th>budget</th>\n",
              "      <th>call</th>\n",
              "      <th>camera</th>\n",
              "      <th>charge</th>\n",
              "      <th>charger</th>\n",
              "      <th>dash</th>\n",
              "      <th>deal</th>\n",
              "      <th>delivery</th>\n",
              "      <th>design</th>\n",
              "      <th>device</th>\n",
              "      <th>display</th>\n",
              "      <th>experience</th>\n",
              "      <th>feature</th>\n",
              "      <th>flagship</th>\n",
              "      <th>game</th>\n",
              "      <th>headphone</th>\n",
              "      <th>heat</th>\n",
              "      <th>issue</th>\n",
              "      <th>lag</th>\n",
              "      <th>life</th>\n",
              "      <th>look</th>\n",
              "      <th>market</th>\n",
              "      <th>mobile</th>\n",
              "      <th>money</th>\n",
              "      <th>performance</th>\n",
              "      <th>phone.1</th>\n",
              "      <th>photo</th>\n",
              "      <th>picture</th>\n",
              "      <th>price</th>\n",
              "      <th>problem</th>\n",
              "      <th>processor</th>\n",
              "      <th>product</th>\n",
              "      <th>purchase</th>\n",
              "      <th>quality</th>\n",
              "      <th>ram</th>\n",
              "      <th>range</th>\n",
              "      <th>review</th>\n",
              "      <th>sale</th>\n",
              "      <th>screen</th>\n",
              "      <th>service</th>\n",
              "      <th>smartphone</th>\n",
              "      <th>software</th>\n",
              "      <th>sound</th>\n",
              "      <th>speaker</th>\n",
              "      <th>time</th>\n",
              "      <th>update</th>\n",
              "      <th>usage</th>\n",
              "      <th>user</th>\n",
              "      <th>value</th>\n",
              "      <th>video</th>\n",
              "    </tr>\n",
              "  </thead>\n",
              "  <tbody>\n",
              "    <tr>\n",
              "      <th>0</th>\n",
              "      <td>Best phone ever</td>\n",
              "      <td>best</td>\n",
              "      <td>0</td>\n",
              "      <td>0</td>\n",
              "      <td>0</td>\n",
              "      <td>0</td>\n",
              "      <td>0</td>\n",
              "      <td>0</td>\n",
              "      <td>0</td>\n",
              "      <td>0</td>\n",
              "      <td>0</td>\n",
              "      <td>0</td>\n",
              "      <td>0</td>\n",
              "      <td>0</td>\n",
              "      <td>0</td>\n",
              "      <td>0</td>\n",
              "      <td>0</td>\n",
              "      <td>0</td>\n",
              "      <td>0</td>\n",
              "      <td>0</td>\n",
              "      <td>0</td>\n",
              "      <td>0</td>\n",
              "      <td>0</td>\n",
              "      <td>0</td>\n",
              "      <td>0</td>\n",
              "      <td>0</td>\n",
              "      <td>0</td>\n",
              "      <td>0</td>\n",
              "      <td>0</td>\n",
              "      <td>0</td>\n",
              "      <td>0</td>\n",
              "      <td>0</td>\n",
              "      <td>0</td>\n",
              "      <td>0</td>\n",
              "      <td>1</td>\n",
              "      <td>0</td>\n",
              "      <td>0</td>\n",
              "      <td>0</td>\n",
              "      <td>0</td>\n",
              "      <td>0</td>\n",
              "      <td>0</td>\n",
              "      <td>0</td>\n",
              "      <td>0</td>\n",
              "      <td>0</td>\n",
              "      <td>0</td>\n",
              "      <td>0</td>\n",
              "      <td>0</td>\n",
              "      <td>0</td>\n",
              "      <td>0</td>\n",
              "      <td>0</td>\n",
              "      <td>0</td>\n",
              "      <td>0</td>\n",
              "      <td>0</td>\n",
              "      <td>0</td>\n",
              "      <td>0</td>\n",
              "      <td>0</td>\n",
              "      <td>0</td>\n",
              "      <td>0</td>\n",
              "      <td>0</td>\n",
              "    </tr>\n",
              "    <tr>\n",
              "      <th>1</th>\n",
              "      <td>One of the best phone!</td>\n",
              "      <td>best</td>\n",
              "      <td>0</td>\n",
              "      <td>0</td>\n",
              "      <td>0</td>\n",
              "      <td>0</td>\n",
              "      <td>0</td>\n",
              "      <td>0</td>\n",
              "      <td>0</td>\n",
              "      <td>0</td>\n",
              "      <td>0</td>\n",
              "      <td>0</td>\n",
              "      <td>0</td>\n",
              "      <td>0</td>\n",
              "      <td>0</td>\n",
              "      <td>0</td>\n",
              "      <td>0</td>\n",
              "      <td>0</td>\n",
              "      <td>0</td>\n",
              "      <td>0</td>\n",
              "      <td>0</td>\n",
              "      <td>0</td>\n",
              "      <td>0</td>\n",
              "      <td>0</td>\n",
              "      <td>0</td>\n",
              "      <td>0</td>\n",
              "      <td>0</td>\n",
              "      <td>0</td>\n",
              "      <td>0</td>\n",
              "      <td>0</td>\n",
              "      <td>0</td>\n",
              "      <td>0</td>\n",
              "      <td>0</td>\n",
              "      <td>0</td>\n",
              "      <td>1</td>\n",
              "      <td>0</td>\n",
              "      <td>0</td>\n",
              "      <td>0</td>\n",
              "      <td>0</td>\n",
              "      <td>0</td>\n",
              "      <td>0</td>\n",
              "      <td>0</td>\n",
              "      <td>0</td>\n",
              "      <td>0</td>\n",
              "      <td>0</td>\n",
              "      <td>0</td>\n",
              "      <td>0</td>\n",
              "      <td>0</td>\n",
              "      <td>0</td>\n",
              "      <td>0</td>\n",
              "      <td>0</td>\n",
              "      <td>0</td>\n",
              "      <td>0</td>\n",
              "      <td>0</td>\n",
              "      <td>0</td>\n",
              "      <td>0</td>\n",
              "      <td>0</td>\n",
              "      <td>0</td>\n",
              "      <td>0</td>\n",
              "    </tr>\n",
              "    <tr>\n",
              "      <th>2</th>\n",
              "      <td>one plus 6 is extremely worth for it's price a...</td>\n",
              "      <td>best</td>\n",
              "      <td>amazon</td>\n",
              "      <td>0</td>\n",
              "      <td>0</td>\n",
              "      <td>0</td>\n",
              "      <td>0</td>\n",
              "      <td>0</td>\n",
              "      <td>0</td>\n",
              "      <td>0</td>\n",
              "      <td>0</td>\n",
              "      <td>0</td>\n",
              "      <td>0</td>\n",
              "      <td>0</td>\n",
              "      <td>0</td>\n",
              "      <td>extremely,blowing</td>\n",
              "      <td>0</td>\n",
              "      <td>0</td>\n",
              "      <td>1</td>\n",
              "      <td>0</td>\n",
              "      <td>0</td>\n",
              "      <td>0</td>\n",
              "      <td>0</td>\n",
              "      <td>0</td>\n",
              "      <td>0</td>\n",
              "      <td>0</td>\n",
              "      <td>0</td>\n",
              "      <td>0</td>\n",
              "      <td>0</td>\n",
              "      <td>0</td>\n",
              "      <td>0</td>\n",
              "      <td>0</td>\n",
              "      <td>0</td>\n",
              "      <td>0</td>\n",
              "      <td>1</td>\n",
              "      <td>1</td>\n",
              "      <td>0</td>\n",
              "      <td>amazon</td>\n",
              "      <td>0</td>\n",
              "      <td>0</td>\n",
              "      <td>0</td>\n",
              "      <td>0</td>\n",
              "      <td>1</td>\n",
              "      <td>0</td>\n",
              "      <td>0</td>\n",
              "      <td>0</td>\n",
              "      <td>amazon</td>\n",
              "      <td>0</td>\n",
              "      <td>0</td>\n",
              "      <td>0</td>\n",
              "      <td>0</td>\n",
              "      <td>0</td>\n",
              "      <td>0</td>\n",
              "      <td>0</td>\n",
              "      <td>0</td>\n",
              "      <td>0</td>\n",
              "      <td>0</td>\n",
              "      <td>0</td>\n",
              "      <td>0</td>\n",
              "    </tr>\n",
              "    <tr>\n",
              "      <th>3</th>\n",
              "      <td>Good pictures</td>\n",
              "      <td>0</td>\n",
              "      <td>0</td>\n",
              "      <td>0</td>\n",
              "      <td>0</td>\n",
              "      <td>0</td>\n",
              "      <td>0</td>\n",
              "      <td>0</td>\n",
              "      <td>0</td>\n",
              "      <td>0</td>\n",
              "      <td>0</td>\n",
              "      <td>0</td>\n",
              "      <td>0</td>\n",
              "      <td>0</td>\n",
              "      <td>0</td>\n",
              "      <td>0</td>\n",
              "      <td>0</td>\n",
              "      <td>0</td>\n",
              "      <td>0</td>\n",
              "      <td>0</td>\n",
              "      <td>0</td>\n",
              "      <td>0</td>\n",
              "      <td>0</td>\n",
              "      <td>0</td>\n",
              "      <td>0</td>\n",
              "      <td>0</td>\n",
              "      <td>0</td>\n",
              "      <td>0</td>\n",
              "      <td>0</td>\n",
              "      <td>0</td>\n",
              "      <td>0</td>\n",
              "      <td>0</td>\n",
              "      <td>0</td>\n",
              "      <td>0</td>\n",
              "      <td>0</td>\n",
              "      <td>0</td>\n",
              "      <td>1</td>\n",
              "      <td>0</td>\n",
              "      <td>0</td>\n",
              "      <td>0</td>\n",
              "      <td>0</td>\n",
              "      <td>0</td>\n",
              "      <td>0</td>\n",
              "      <td>0</td>\n",
              "      <td>0</td>\n",
              "      <td>0</td>\n",
              "      <td>0</td>\n",
              "      <td>0</td>\n",
              "      <td>0</td>\n",
              "      <td>0</td>\n",
              "      <td>0</td>\n",
              "      <td>0</td>\n",
              "      <td>0</td>\n",
              "      <td>0</td>\n",
              "      <td>0</td>\n",
              "      <td>0</td>\n",
              "      <td>0</td>\n",
              "      <td>0</td>\n",
              "      <td>0</td>\n",
              "    </tr>\n",
              "    <tr>\n",
              "      <th>4</th>\n",
              "      <td>Six months later: no complaints. OnePlus does ...</td>\n",
              "      <td>0</td>\n",
              "      <td>0</td>\n",
              "      <td>0</td>\n",
              "      <td>0</td>\n",
              "      <td>0</td>\n",
              "      <td>0</td>\n",
              "      <td>0</td>\n",
              "      <td>0</td>\n",
              "      <td>0</td>\n",
              "      <td>0</td>\n",
              "      <td>0</td>\n",
              "      <td>0</td>\n",
              "      <td>0</td>\n",
              "      <td>0</td>\n",
              "      <td>0</td>\n",
              "      <td>0</td>\n",
              "      <td>1</td>\n",
              "      <td>0</td>\n",
              "      <td>0</td>\n",
              "      <td>0</td>\n",
              "      <td>0</td>\n",
              "      <td>0</td>\n",
              "      <td>0</td>\n",
              "      <td>0</td>\n",
              "      <td>0</td>\n",
              "      <td>0</td>\n",
              "      <td>0</td>\n",
              "      <td>0</td>\n",
              "      <td>0</td>\n",
              "      <td>0</td>\n",
              "      <td>0</td>\n",
              "      <td>0</td>\n",
              "      <td>0</td>\n",
              "      <td>0</td>\n",
              "      <td>0</td>\n",
              "      <td>0</td>\n",
              "      <td>0</td>\n",
              "      <td>0</td>\n",
              "      <td>0</td>\n",
              "      <td>0</td>\n",
              "      <td>0</td>\n",
              "      <td>0</td>\n",
              "      <td>0</td>\n",
              "      <td>0</td>\n",
              "      <td>0</td>\n",
              "      <td>0</td>\n",
              "      <td>0</td>\n",
              "      <td>0</td>\n",
              "      <td>0</td>\n",
              "      <td>0</td>\n",
              "      <td>0</td>\n",
              "      <td>0</td>\n",
              "      <td>0</td>\n",
              "      <td>0</td>\n",
              "      <td>0</td>\n",
              "      <td>0</td>\n",
              "      <td>0</td>\n",
              "      <td>0</td>\n",
              "    </tr>\n",
              "  </tbody>\n",
              "</table>\n",
              "</div>"
            ],
            "text/plain": [
              "                                         Review_text phone  ... value video\n",
              "0                                    Best phone ever  best  ...     0     0\n",
              "1                             One of the best phone!  best  ...     0     0\n",
              "2  one plus 6 is extremely worth for it's price a...  best  ...     0     0\n",
              "3                                      Good pictures     0  ...     0     0\n",
              "4  Six months later: no complaints. OnePlus does ...     0  ...     0     0\n",
              "\n",
              "[5 rows x 59 columns]"
            ]
          },
          "metadata": {
            "tags": []
          },
          "execution_count": 25
        }
      ]
    },
    {
      "cell_type": "code",
      "metadata": {
        "id": "N4-20uGjIByD",
        "colab_type": "code",
        "outputId": "10c67edd-35e0-4d5c-bb53-fd4d85f395ff",
        "colab": {
          "base_uri": "https://localhost:8080/",
          "height": 35
        }
      },
      "source": [
        ""
      ],
      "execution_count": 51,
      "outputs": [
        {
          "output_type": "execute_result",
          "data": {
            "text/plain": [
              "'plus'"
            ]
          },
          "metadata": {
            "tags": []
          },
          "execution_count": 51
        }
      ]
    },
    {
      "cell_type": "code",
      "metadata": {
        "id": "BB2kTLO93AqM",
        "colab_type": "code",
        "colab": {}
      },
      "source": [
        "df1 = dfadj\n",
        "df2 = dfvrb"
      ],
      "execution_count": 0,
      "outputs": []
    },
    {
      "cell_type": "code",
      "metadata": {
        "id": "msfPNt2LzrhX",
        "colab_type": "code",
        "colab": {}
      },
      "source": [
        "#download dataframe from colab to local\n",
        "# from google.colab import files\n",
        "# df2.to_csv('./dfvrb.csv', sep = ',', index = False)\n",
        "# files.download('dfvrb.csv')"
      ],
      "execution_count": 0,
      "outputs": []
    },
    {
      "cell_type": "code",
      "metadata": {
        "id": "FO4QSrWQ3AqS",
        "colab_type": "code",
        "colab": {}
      },
      "source": [
        ""
      ],
      "execution_count": 0,
      "outputs": []
    },
    {
      "cell_type": "code",
      "metadata": {
        "id": "RYr4dELg3AqU",
        "colab_type": "code",
        "colab": {}
      },
      "source": [
        "# creating a new dataframe for accuracy\n",
        "count=0\n",
        "ind=0\n",
        "column = ['word1','word2', 'freq']\n",
        "newdf = pd.DataFrame(columns=column)\n",
        "# newdf.columns = column"
      ],
      "execution_count": 0,
      "outputs": []
    },
    {
      "cell_type": "code",
      "metadata": {
        "id": "47ZZYnHe3AqW",
        "colab_type": "code",
        "colab": {}
      },
      "source": [
        "# calculating the freq of each opinion words from the previous step\n",
        "for i in range(1,len(table1.columns)):\n",
        "  count = 0; l = []\n",
        "  for j in range(0, len(table1.Review_text)):\n",
        "    \n",
        "    if df1.iloc[j,i] != 0 and df1.iloc[j,i] != 1:\n",
        "#         print(type(df1.iloc[j,i]),table1.columns[i] )\n",
        "#         print('**enter**')\n",
        "        if count == 0:\n",
        "            words = df1.iloc[j,i].split(',')\n",
        "#             print(words)\n",
        "  #                 wrd = words.strip(\"'' \")\n",
        "            if len(words) < 2:\n",
        "              l.append(words[0].strip(\"'' \"))\n",
        "              l.append(''.strip(\"'' \"))\n",
        "            else:\n",
        "              l.append(words[0].strip(\"'' \"))\n",
        "              l.append(words[1].strip(\"'' \"))\n",
        "\n",
        "        count = count+1\n",
        "  l.append(count)\n",
        "#   print(l)\n",
        "  if len(l)==3:\n",
        "    newdf = newdf.append(pd.Series(l, index=['word1','word2', 'freq']), ignore_index=True)\n",
        "  ind= ind+1\n"
      ],
      "execution_count": 0,
      "outputs": []
    },
    {
      "cell_type": "code",
      "metadata": {
        "id": "Efip-UIk3AqY",
        "colab_type": "code",
        "colab": {}
      },
      "source": [
        "#   df_adj.to_csv(\"df_adj_final.csv\", encoding='utf-8', index=False)\n",
        "#   df_vrb.to_csv(\"df_vrb_final.csv\", encoding='utf-8', index=False)"
      ],
      "execution_count": 0,
      "outputs": []
    },
    {
      "cell_type": "code",
      "metadata": {
        "id": "XCQnf213GHDU",
        "colab_type": "code",
        "colab": {}
      },
      "source": [
        "# The below function check for thw opinion words by checking the previous and next words.\n",
        "def next(postag, wrd1, wrd2):\n",
        "    count=0\n",
        "    for i, element in enumerate(postag):\n",
        "#         print(postag)\n",
        "#         print(wrd1, wrd2)\n",
        "#         print(i)\n",
        "        if i == 0 and len(postag)>1:\n",
        "            if str.lower(wrd1) == str.lower(postag[i][0]):\n",
        "                if str.lower(wrd2) == str.lower(postag[i+1][0]):\n",
        "                    count = 1\n",
        "                    break\n",
        "            elif str.lower(wrd2) == str.lower(postag[i][0]):\n",
        "                if str.lower(wrd1) == str.lower(postag[i+1][0]):\n",
        "                    count = 1\n",
        "                    break\n",
        "        elif i == len(postag)-1:\n",
        "            if str.lower(wrd1) == str.lower(postag[i][0]):\n",
        "                if str.lower(wrd2) == str.lower(postag[i-1][0]):\n",
        "                    count = 1\n",
        "                    break \n",
        "                \n",
        "            elif str.lower(wrd2) == str.lower(postag[i][0]):\n",
        "                if str.lower(wrd1) == str.lower(postag[i-1][0]):\n",
        "                    count = 1\n",
        "                    break\n",
        "                    \n",
        "        elif i in range(1,len(postag)):\n",
        "            if str.lower(wrd1) == str.lower(postag[i][0]):\n",
        "                if str.lower(wrd2) == str.lower(postag[i-1][0]):\n",
        "                    count = 1\n",
        "                    break \n",
        "                \n",
        "            elif str.lower(wrd2) == str.lower(postag[i][0]):\n",
        "                if str.lower(wrd1) == str.lower(postag[i-1][0]):\n",
        "                    count = 1\n",
        "                    break\n",
        "                    \n",
        "            elif str.lower(wrd1) == str.lower(postag[i][0]):\n",
        "                if str.lower(wrd2) == str.lower(postag[i+1][0]):\n",
        "                    count = 1\n",
        "                    break\n",
        "                    \n",
        "            elif str.lower(wrd2) == str.lower(postag[i][0]):\n",
        "                if str.lower(wrd1) == str.lower(postag[i+1][0]):\n",
        "                    count = 1\n",
        "                    break\n",
        "                    \n",
        "        else:\n",
        "            count = 0\n",
        "            continue\n",
        "    if count == 1:\n",
        "      return 1\n",
        "    else:\n",
        "      return 0"
      ],
      "execution_count": 0,
      "outputs": []
    },
    {
      "cell_type": "code",
      "metadata": {
        "id": "4Xs0ZOBtGHOW",
        "colab_type": "code",
        "colab": {}
      },
      "source": [
        "# Calculating the total frequency of the opinion in the overall corpus\n",
        "total=[];tt=0\n",
        "for i in range(0,len(newdf.word1)):\n",
        "    tt=0\n",
        "    wrd1 = newdf.word1[i]\n",
        "    wrd2 = newdf.word2[i]\n",
        "    for j in range(0, len(table1.Review_text)):\n",
        "        clean_rev = clean_review1(table1.loc[j,'Review_text'])\n",
        "        for sent in clean_rev:\n",
        "            postag = nltk.pos_tag(nltk.word_tokenize(sent));\n",
        "            count = next(postag,wrd1,wrd2)\n",
        "            tt = tt+count\n",
        "            \n",
        "    total.append(tt)\n",
        "\n",
        "                \n",
        "                "
      ],
      "execution_count": 0,
      "outputs": []
    },
    {
      "cell_type": "code",
      "metadata": {
        "id": "KWohVdHOGHSi",
        "colab_type": "code",
        "colab": {}
      },
      "source": [
        "#backup\n",
        "\n",
        "newdf1 = newdf \n",
        "newdf.shape"
      ],
      "execution_count": 0,
      "outputs": []
    },
    {
      "cell_type": "code",
      "metadata": {
        "id": "Jq5pAgHU3Aqb",
        "colab_type": "code",
        "colab": {}
      },
      "source": [
        "#adding the total count of the opinion words to the freq dataframe\n",
        "newdf['total'] = total"
      ],
      "execution_count": 0,
      "outputs": []
    },
    {
      "cell_type": "code",
      "metadata": {
        "id": "-0PlmavF3Aqc",
        "colab_type": "code",
        "colab": {}
      },
      "source": [
        ""
      ],
      "execution_count": 0,
      "outputs": []
    }
  ]
}