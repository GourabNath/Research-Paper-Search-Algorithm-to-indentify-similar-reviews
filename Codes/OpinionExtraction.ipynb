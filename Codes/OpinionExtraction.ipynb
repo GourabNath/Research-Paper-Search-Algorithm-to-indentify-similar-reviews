{
 "cells": [
  {
   "cell_type": "code",
   "execution_count": 1,
   "metadata": {},
   "outputs": [],
   "source": [
    "import numpy as np\n",
    "import nltk"
   ]
  },
  {
   "cell_type": "code",
   "execution_count": null,
   "metadata": {},
   "outputs": [],
   "source": [
    "#Creating a function to identify Opinions on a Feature (having a single word) from a given sentence\n",
    "\n",
    "def opinion(f, s):\n",
    "    if f in s:\n",
    "            words = s.split()\n",
    "            pos = nltk.pos_tag(words)\n",
    "            adj = []\n",
    "            for (a,b) in pos:\n",
    "                if b.startswith('JJ'):\n",
    "                    adj.append(a)\n",
    "\n",
    "            if len(adj) > 0:\n",
    "                d = 9e10\n",
    "                for a in adj:\n",
    "                    d1 = abs(words.index(a) - words.index(f))\n",
    "                    if d1 < d:\n",
    "                        d = d1\n",
    "                        i = words.index(a)\n",
    "\n",
    "                return(words[i])\n",
    "            else:\n",
    "                return('None')"
   ]
  },
  {
   "cell_type": "code",
   "execution_count": null,
   "metadata": {},
   "outputs": [],
   "source": []
  }
 ],
 "metadata": {
  "kernelspec": {
   "display_name": "Python 3",
   "language": "python",
   "name": "python3"
  },
  "language_info": {
   "codemirror_mode": {
    "name": "ipython",
    "version": 3
   },
   "file_extension": ".py",
   "mimetype": "text/x-python",
   "name": "python",
   "nbconvert_exporter": "python",
   "pygments_lexer": "ipython3",
   "version": "3.7.3"
  }
 },
 "nbformat": 4,
 "nbformat_minor": 2
}
