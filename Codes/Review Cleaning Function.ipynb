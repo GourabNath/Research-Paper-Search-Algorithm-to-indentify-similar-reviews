{
 "cells": [
  {
   "cell_type": "code",
   "execution_count": null,
   "metadata": {},
   "outputs": [],
   "source": [
    "import nltk"
   ]
  },
  {
   "cell_type": "code",
   "execution_count": null,
   "metadata": {},
   "outputs": [],
   "source": [
    "#De-Emojify\n",
    "def deEmojify(inputString):\n",
    "    return inputString.encode('ascii', 'ignore').decode('ascii')"
   ]
  },
  {
   "cell_type": "code",
   "execution_count": null,
   "metadata": {},
   "outputs": [],
   "source": [
    "#Remove Special Symbols other than (.), (,) and (!)\n",
    "def removeSymbols(inputString):\n",
    "    return(inputString.translate(str.maketrans(\"\", \"\", \"#$%&\\'()*+-/:;<=>?@[\\\\]^_`{|}~\")))"
   ]
  },
  {
   "cell_type": "code",
   "execution_count": null,
   "metadata": {},
   "outputs": [],
   "source": [
    "#Remove (.), (,) and (!) for later stage\n",
    "def remove_dot_comma_excl(inputString):\n",
    "    s = inputString.translate(str.maketrans(\".\", \" \", \"\"))\n",
    "    s = s.translate(str.maketrans(\",\", \" \", \"\"))\n",
    "    s = s.translate(str.maketrans(\"!\", \" \", \"\"))\n",
    "    return(' '.join(s.split()))"
   ]
  },
  {
   "cell_type": "code",
   "execution_count": null,
   "metadata": {},
   "outputs": [],
   "source": [
    "#Text cleaning function -> Return a list of tokenized sentence\n",
    "#(Which will be used for word tokenizarion followed by POS tagging)\n",
    "\n",
    "def clean_review(review):\n",
    "    r = review.lower()\n",
    "    r = removeSymbols(r)\n",
    "    r = deEmojify(r)\n",
    "    r = nltk.sent_tokenize(r)\n",
    "\n",
    "    tokens = []\n",
    "    for sentence in r:\n",
    "        s = remove_dot_comma_excl(sentence)\n",
    "        if len(s) > 0:\n",
    "            tokens.append(s)\n",
    "    return(tokens)"
   ]
  }
 ],
 "metadata": {
  "kernelspec": {
   "display_name": "Python 3",
   "language": "python",
   "name": "python3"
  },
  "language_info": {
   "codemirror_mode": {
    "name": "ipython",
    "version": 3
   },
   "file_extension": ".py",
   "mimetype": "text/x-python",
   "name": "python",
   "nbconvert_exporter": "python",
   "pygments_lexer": "ipython3",
   "version": "3.7.3"
  }
 },
 "nbformat": 4,
 "nbformat_minor": 2
}
